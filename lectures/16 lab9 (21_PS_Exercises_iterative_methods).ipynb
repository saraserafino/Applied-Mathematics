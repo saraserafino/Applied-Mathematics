{
  "nbformat": 4,
  "nbformat_minor": 0,
  "metadata": {
    "colab": {
      "provenance": [],
      "authorship_tag": "ABX9TyNk7cIwElgXl94oPUmMOtoQ",
      "include_colab_link": true
    },
    "kernelspec": {
      "name": "python3",
      "display_name": "Python 3"
    },
    "language_info": {
      "name": "python"
    }
  },
  "cells": [
    {
      "cell_type": "markdown",
      "metadata": {
        "id": "view-in-github",
        "colab_type": "text"
      },
      "source": [
        "<a href=\"https://colab.research.google.com/github/lorenzotomada/Applied_Mathematics/blob/main/Code/AM_lab7.ipynb\" target=\"_parent\"><img src=\"https://colab.research.google.com/assets/colab-badge.svg\" alt=\"Open In Colab\"/></a>"
      ]
    },
    {
      "cell_type": "markdown",
      "source": [
        "#**Iterative methods for linear systems**\n",
        "\n",
        "See https://github.com/mgirfogl/numerical-analysis-2023-2024/blob/main/material/21-PS-Exercises-python-iterative-methods-linear-system/Linear_system_iterative.pdf for more theoretical details.\n",
        "\n",
        "Consider the equation\n",
        "\\begin{cases}\n",
        "    -u_{xx}(x) = f(x), x\\in (0,1) \\\\\n",
        "    u(0)=u(1)=0.\n",
        "\\end{cases}\n",
        "\n",
        "For the numerical discretization of the problem, we consider a **Finite Difference (FD) Approximation**. Let $n$ be an integer, a consider a uniform subdivision of the interval $(0,1)$ using $n$ equispaced points, denoted by $\\{x_i\\}_{i=0}^n$ . Moreover, let $u_i$ be the FD approximation of $u(x_i)$, and similarly $f_i \\approx f(x_i)$.\n",
        "\n",
        "The linear system that we need to solve is\n",
        "$$\n",
        "u_i = 0 \\qquad\\qquad\\qquad\\qquad i=0,\n",
        "$$\n",
        "$$\n",
        "\\frac{-u_{i-1} + 2u_i - u_{i+1}}{h^2} = f_i \\qquad\\qquad\\qquad i=1, \\ldots, n-1,\\qquad\\qquad\\qquad(P)\n",
        "$$\n",
        "$$\n",
        "u_i = 0 \\qquad\\qquad\\qquad\\qquad i=n.\n",
        "$$\n"
      ],
      "metadata": {
        "id": "U6pznRdH7qe0"
      }
    },
    {
      "cell_type": "code",
      "execution_count": 1,
      "metadata": {
        "id": "HnlqAJ1K62Mw"
      },
      "outputs": [],
      "source": [
        "%matplotlib inline\n",
        "from numpy import *\n",
        "from matplotlib.pyplot import *"
      ]
    },
    {
      "cell_type": "code",
      "source": [
        "# Same as in lab6.\n",
        "n = 30\n",
        "h = 1./(n-1)\n",
        "x = linspace(0, 1, n)"
      ],
      "metadata": {
        "id": "vGaOrLDa685x"
      },
      "execution_count": 2,
      "outputs": []
    },
    {
      "cell_type": "code",
      "source": [
        "a = -ones((n-1,))\n",
        "b = 2*ones((n))\n",
        "A = 1/h**2*(diag(a,-1) + diag(b) + diag(a, +1))\n",
        "f = x*(1-x)\n",
        "\n",
        "A[0,:] = 0\n",
        "A[:, 0] = 0\n",
        "A[0, 0] =1\n",
        "f[0] = 0\n",
        "\n",
        "A[-1,:] = 0\n",
        "A[:, -1] = 0\n",
        "A[-1, -1] =1\n",
        "f[-1] = 0\n",
        "\n",
        "u = linalg.solve(A, f)"
      ],
      "metadata": {
        "id": "4akqtePp9DJi"
      },
      "execution_count": 3,
      "outputs": []
    },
    {
      "cell_type": "markdown",
      "metadata": {
        "id": "FUheb7_Kzzkm"
      },
      "source": [
        "## Jacobi\n",
        "\n",
        "$$\n",
        "x_i^{k+1} = \\frac{1}{A_{ii}} \\times \\left(b_i - \\sum_{j\\neq i} a_{ij}x_j^k\\right)\n",
        "$$\n",
        "\n"
      ]
    },
    {
      "cell_type": "code",
      "source": [
        "def jacobi(A, b, nmax = 10000, eps = 1e-10):\n",
        "  N = len(A)\n",
        "  x = zeros_like(b)\n",
        "  x_old = zeros_like(b)\n",
        "  tol = eps + 1\n",
        "  it = 0\n",
        "\n",
        "  while tol > eps and it < nmax:\n",
        "    for i in range(0, N-1):\n",
        "      x[i] = 1./A[i,i]*(b[i]- dot(A[i, 0:i], x_old[0:i])- dot(A[i, i+1:N], x_old[i+1:N]))\n",
        "      # Two dot products because it will be useful for the next method\n",
        "\n",
        "    res = b - dot(A, x) # Residual\n",
        "    tol = linalg.norm(res, 2)\n",
        "    x_old = x.copy()\n",
        "    it+=1\n",
        "\n",
        "  print('The number of iterations is ', it)\n",
        "  print('The norm of the residual is ', tol)\n",
        "  return x"
      ],
      "metadata": {
        "id": "2TLf7rwq9UtM"
      },
      "execution_count": 4,
      "outputs": []
    },
    {
      "cell_type": "code",
      "source": [
        "sol_jacobi = jacobi(A, f)\n",
        "print('The relative error is ', linalg.norm((sol_jacobi-u)/linalg.norm(u)))\n",
        "# Relative error"
      ],
      "metadata": {
        "colab": {
          "base_uri": "https://localhost:8080/"
        },
        "id": "ws5uFRP5_bFY",
        "outputId": "43bfa172-cb8a-4bcf-f665-ac208286eaf7"
      },
      "execution_count": 5,
      "outputs": [
        {
          "output_type": "stream",
          "name": "stdout",
          "text": [
            "The number of iterations is  3914\n",
            "The norm of the residual is  9.965885316539395e-11\n",
            "The relative error is  1.01435369692299e-10\n"
          ]
        }
      ]
    },
    {
      "cell_type": "markdown",
      "metadata": {
        "id": "nFYYGHUIzzko"
      },
      "source": [
        "## Gauss-Seidel\n",
        "\n",
        "$$\n",
        "x_i^{k+1} = \\frac{1}{A_{ii}} \\times \\left(b_i - \\sum_{j=0}^{i-1} a_{ij}x_j^{k+1} - \\sum_{j=i+1}^{N} a_{ij}x_j^k\\right)\n",
        "$$"
      ]
    },
    {
      "cell_type": "code",
      "source": [
        "def gauss_seidel(A, b, nmax = 10000, eps = 1e-10):\n",
        "  N = len(A)\n",
        "  x = zeros_like(b)\n",
        "  x_old = zeros_like(b)\n",
        "  tol = eps + 1\n",
        "  it = 0\n",
        "\n",
        "  while tol > eps and it < nmax:\n",
        "    for i in range(0, N-1):\n",
        "      x[i] = 1./A[i,i]*(b[i]- dot(A[i, 0:i], x[0:i])- dot(A[i, i+1:N], x_old[i+1:N]))\n",
        "      # Two dot product because it will be useful for the next method\n",
        "\n",
        "    res = b - dot(A, x)\n",
        "    tol = linalg.norm(res, 2)\n",
        "    x_old = x.copy()\n",
        "    it+=1\n",
        "\n",
        "  print('The number of iterations is ', it)\n",
        "  print('The norm of the residual is ', tol)\n",
        "  return x"
      ],
      "metadata": {
        "id": "TEMlFOaYBELQ"
      },
      "execution_count": 6,
      "outputs": []
    },
    {
      "cell_type": "code",
      "source": [
        "sol_gauss_seidel = gauss_seidel(A, f)\n",
        "print('The relative error is ',linalg.norm((sol_gauss_seidel-u)/linalg.norm(u)))"
      ],
      "metadata": {
        "colab": {
          "base_uri": "https://localhost:8080/"
        },
        "id": "LnKQwn50Bjfb",
        "outputId": "e135aeab-6a42-49c0-89f0-d670ce16bb53"
      },
      "execution_count": 7,
      "outputs": [
        {
          "output_type": "stream",
          "name": "stdout",
          "text": [
            "The number of iterations is  1958\n",
            "The norm of the residual is  9.975573046289024e-11\n",
            "The relative error is  1.0068983192453529e-10\n"
          ]
        }
      ]
    },
    {
      "cell_type": "markdown",
      "metadata": {
        "collapsed": true,
        "id": "IwXQUYnKzzkq"
      },
      "source": [
        "   ## Gradient method\n",
        "   $$\n",
        "   {\\bf r}^k = {\\bf b} - A {\\bf x}^k\n",
        "   $$\n",
        "   \n",
        "   $$\n",
        "   \\alpha^k = \\frac{{\\bf r}^{k^{T}} {\\bf r}^k}{{\\bf r}^{k^{T}} A{\\bf r}^k}\n",
        "   $$\n",
        "   \n",
        "   $$\n",
        "   {\\bf x}^{k+1} = {\\bf x}^k + \\alpha^k {\\bf r}^k\n",
        "   $$\n",
        "   \n",
        "   ### Preconditioned gradient method\n",
        "   $$\n",
        "   P{\\bf z}^k =  {\\bf r}^k\n",
        "   $$\n",
        "   \n",
        "   $$\n",
        "   \\alpha^k = \\frac{{\\bf z}^{k^{T}} {\\bf r}^k}{{\\bf z}^{k^{T}} A{\\bf z}^k}\n",
        "   $$\n",
        "\n",
        "   $$\n",
        "   {\\bf x}^{k+1} = {\\bf x}^k + \\alpha^k {\\bf z}^k\n",
        "   $$\n",
        "   \n",
        "   $$\n",
        "   {\\bf r}^{k+1} = {\\bf r}^k  - \\alpha^k A{\\bf z}^k\n",
        "   $$\n",
        "\n",
        "   We will implement the preconditioned version. The standard one can be get using the identity as preconditioner."
      ]
    },
    {
      "cell_type": "code",
      "source": [
        "def gradient(A, b, P, nmax = 10000, eps = 1e-10):\n",
        "  N = len(A)\n",
        "  x = zeros_like(b)\n",
        "  tol = eps + 1\n",
        "  res = b - dot(A, x)\n",
        "  counter = 0\n",
        "\n",
        "  while counter < nmax and tol > eps:\n",
        "    z = linalg.solve(P, res)\n",
        "    alpha = dot(z, res)/dot(z, dot(A, z))\n",
        "    x += alpha*z\n",
        "    res -= alpha*dot(A,z)\n",
        "    counter += 1\n",
        "    tol = linalg.norm(b-dot(A, x), 2)\n",
        "\n",
        "  print('The number of iterations is ', counter)\n",
        "  print('The norm of the residual is ', tol)\n",
        "  return x"
      ],
      "metadata": {
        "id": "6aZ7OqHcBqcY"
      },
      "execution_count": 8,
      "outputs": []
    },
    {
      "cell_type": "code",
      "source": [
        "sol_grad = gradient(A, f, identity(len(A)))\n",
        "print('The relative error is ',linalg.norm(sol_grad - u)/linalg.norm(u))"
      ],
      "metadata": {
        "colab": {
          "base_uri": "https://localhost:8080/"
        },
        "id": "QzLDjC6mMtjP",
        "outputId": "60eecb0f-3398-48d2-8ebf-613fd8917203"
      },
      "execution_count": 9,
      "outputs": [
        {
          "output_type": "stream",
          "name": "stdout",
          "text": [
            "The number of iterations is  3183\n",
            "The norm of the residual is  9.968180120829321e-11\n",
            "The relative error is  7.477371613409447e-11\n"
          ]
        }
      ]
    },
    {
      "cell_type": "markdown",
      "source": [
        "If we manage to choose a preconditioner which is \"similar\" to $A$, then $P^{-1}A$ will be close to the identity and we will be left with an easy system.\n",
        "\n",
        "As a matter of fact, if we take $A$ itself as preconditioner, we have the exact solution in just $1$ step:"
      ],
      "metadata": {
        "id": "kvmVRzP_Mqrx"
      }
    },
    {
      "cell_type": "code",
      "source": [
        "sol_pre_grad = gradient(A, f, A)\n",
        "print('The relative error is ',linalg.norm(sol_pre_grad - u)/linalg.norm(u))"
      ],
      "metadata": {
        "colab": {
          "base_uri": "https://localhost:8080/"
        },
        "id": "l_O1MFUTMrAP",
        "outputId": "9dfe5054-d144-4eaf-b447-df4088d50f85"
      },
      "execution_count": 10,
      "outputs": [
        {
          "output_type": "stream",
          "name": "stdout",
          "text": [
            "The number of iterations is  1\n",
            "The norm of the residual is  1.7727152017483662e-14\n",
            "The relative error is  1.9043722965187744e-15\n"
          ]
        }
      ]
    },
    {
      "cell_type": "markdown",
      "source": [
        "Clearly, this is not doable in practice, as it would require to know $A^{-1}$, in which case we would already know the solution and there would be no need to use an iterative method.\n",
        "\n",
        "Preconditioners can be chosen, for instance, extracting the diagonal of $A$ or considering an (incomplete) $LU$ factorization of $A$.\n",
        "\n",
        "In any case $P$ should be easily invertible."
      ],
      "metadata": {
        "id": "gVUnx0QtNNz0"
      }
    },
    {
      "cell_type": "markdown",
      "metadata": {
        "id": "ZGTYGHPTzzkt"
      },
      "source": [
        "## Conjugate gradient\n",
        "   \n",
        "   $$\n",
        "   \\alpha^k = \\frac{{\\bf p}^{k^{T}} {\\bf r}^k}{{\\bf p}^{k^{T}} A{\\bf p}^k}\n",
        "   $$\n",
        "   \n",
        "      \n",
        "   $$\n",
        "   {\\bf x}^{k+1} = {\\bf x}^k + \\alpha^k {\\bf p}^k\n",
        "   $$\n",
        "   \n",
        "   $$\n",
        "   {\\bf r}^{k+1} = {\\bf r}^k - \\alpha^kA {\\bf p}^k\n",
        "   $$\n",
        "\n",
        "   $$\n",
        "   \\beta^k = \\frac{(A{\\bf p}^{k})^{T}{\\bf r}^{k+1}}{(A{\\bf p}^{k})^{T}  {\\bf p}^k}\n",
        "   \\beta^k = \\frac{{z^{k+1}}^{T}{\\bf r}^{k+1}}{(A{\\bf p}^{k})^{T}  {\\bf p}^k}\n",
        "   $$\n",
        "   vedere le slide\n",
        "   \n",
        "   $$\n",
        "   {\\bf p}^{k+1} = {\\bf r}^{k+1} - \\beta^k{\\bf p}^k\n",
        "   $$\n",
        "\n",
        "   \n",
        "   ### Preconditioned conjugate gradient\n",
        "   \n",
        "   \n",
        "   $$\n",
        "   \\alpha^k = \\frac{{\\bf p}^{k^{T}} {\\bf r}^k}{(A{\\bf p}^{k})^{T}{\\bf p}^k}\n",
        "   $$\n",
        "   \n",
        "      \n",
        "   $$\n",
        "   {\\bf x}^{k+1} = {\\bf x}^k + \\alpha^k {\\bf p}^k\n",
        "   $$\n",
        "   \n",
        "   $$\n",
        "   {\\bf r}^{k+1} = {\\bf r}^k - \\alpha^kA {\\bf p}^k\n",
        "   $$\n",
        "\n",
        "$$\n",
        "P{\\bf z}^{k+1} = {\\bf r}^{k+1}\n",
        "$$\n",
        "\n",
        "   $$\n",
        "   \\beta^k = \\frac{(A{\\bf p}^{k})^{T}{\\bf z}^{k+1}}{{\\bf p}^{k^T}A  {\\bf p}^k}\n",
        "   $$\n",
        "   \n",
        "   $$\n",
        "   {\\bf p}^{k+1} = {\\bf z}^{k+1} - \\beta^k{\\bf p}^k\n",
        "   $$\n",
        "\n",
        "\n",
        "  We will implement the preconditioned version. The standard one can be get using the identity as preconditioner."
      ]
    },
    {
      "cell_type": "code",
      "source": [
        "def conjugate_gradient(A, b, P, nmax = len(A), eps = 1e-10): # Theoretically, it\n",
        "# is a direct method, so it should make no sense to consider a number of\n",
        "# iterations greater than the dimension of A.\n",
        "# Actually, due to floating point arithmetic, in unlucky cases the exact\n",
        "# solution might not be reached even after this amount of steps. This is not the\n",
        "# standard situation, though.\n",
        "  N = len(A)\n",
        "  x = zeros_like(b)\n",
        "  tol = eps + 1\n",
        "  res = b - dot(A, x)\n",
        "  counter = 0\n",
        "  p_old = zeros_like(b)\n",
        "  rho_old = 1.\n",
        "\n",
        "  while counter < nmax and tol > eps:\n",
        "    z = linalg.solve(P,res)\n",
        "    rho = dot(res, z)\n",
        "    counter += 1\n",
        "\n",
        "    if (counter > 1):\n",
        "      beta = rho/rho_old\n",
        "      p =  z + beta*p_old\n",
        "    else:\n",
        "      p = z\n",
        "\n",
        "    q = dot(A, p)\n",
        "    alpha = rho/dot(p, q)\n",
        "    x += p*alpha\n",
        "    res -= q*alpha\n",
        "    p_old = p\n",
        "    rho_old = rho\n",
        "    tol = linalg.norm(b-dot(A, x), 2)\n",
        "\n",
        "  print('The number of iterations is ', counter)\n",
        "  print('The norm of the residual is ', tol)\n",
        "  return x"
      ],
      "metadata": {
        "id": "gnapg26xEDAb"
      },
      "execution_count": 11,
      "outputs": []
    },
    {
      "cell_type": "code",
      "source": [
        "sol_conj_gradient = conjugate_gradient(A, f, identity(len(A)))\n",
        "print('The relative error is ',linalg.norm((sol_conj_gradient-u)/linalg.norm(u)))\n",
        "\n",
        "# Same example as before, using A as preconditioner:\n",
        "\n",
        "sol_precond_conj_gradient = conjugate_gradient(A, f, A)\n",
        "print('The relative error is ',linalg.norm((sol_precond_conj_gradient-u)/linalg.norm(u)))"
      ],
      "metadata": {
        "colab": {
          "base_uri": "https://localhost:8080/"
        },
        "id": "b3OcJ1frFkg1",
        "outputId": "cb6bb574-926d-4d11-ceac-0cb1bbef5667"
      },
      "execution_count": 12,
      "outputs": [
        {
          "output_type": "stream",
          "name": "stdout",
          "text": [
            "The number of iterations is  14\n",
            "The norm of the residual is  3.625573392809256e-14\n",
            "The relative error is  1.180953962485736e-15\n",
            "The number of iterations is  1\n",
            "The norm of the residual is  1.7727152017483662e-14\n",
            "The relative error is  1.9043722965187744e-15\n"
          ]
        }
      ]
    },
    {
      "cell_type": "markdown",
      "source": [
        "Since I like plotting, let us conclude by:"
      ],
      "metadata": {
        "id": "eEcvqzUDQFQ8"
      }
    },
    {
      "cell_type": "code",
      "source": [
        "plot(x, sol_conj_gradient, 'ro')\n",
        "plot(x, u)"
      ],
      "metadata": {
        "id": "SOQBbkFLH9GP",
        "colab": {
          "base_uri": "https://localhost:8080/",
          "height": 447
        },
        "outputId": "493c9d50-3500-4e0b-a97d-9255cc9a5838"
      },
      "execution_count": 13,
      "outputs": [
        {
          "output_type": "execute_result",
          "data": {
            "text/plain": [
              "[<matplotlib.lines.Line2D at 0x78ce0e74b640>]"
            ]
          },
          "metadata": {},
          "execution_count": 13
        },
        {
          "output_type": "display_data",
          "data": {
            "text/plain": [
              "<Figure size 640x480 with 1 Axes>"
            ],
            "image/png": "[encoded data removed]"
          },
          "metadata": {}
        }
      ]
    }
  ]
}