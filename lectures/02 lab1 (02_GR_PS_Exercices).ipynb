{
 "cells": [
  {
   "cell_type": "markdown",
   "metadata": {
    "colab_type": "text",
    "id": "view-in-github"
   },
   "source": [
    "<a href=\"https://colab.research.google.com/github/lorenzotomada/Applied_Mathematics/blob/main/Code/AM_lab1.ipynb\" target=\"_parent\"><img src=\"https://colab.research.google.com/assets/colab-badge.svg\" alt=\"Open In Colab\"/></a>"
   ]
  },
  {
   "cell_type": "markdown",
   "metadata": {
    "id": "G3wimZEWFLjd"
   },
   "source": [
    "# **Arithmetic operations:**"
   ]
  },
  {
   "cell_type": "code",
   "execution_count": 11,
   "metadata": {
    "colab": {
     "base_uri": "https://localhost:8080/"
    },
    "id": "6P_W_UNYM6Po",
    "outputId": "ece0b6d0-7ef5-41e1-9d18-1caf61ef1f64"
   },
   "outputs": [
    {
     "name": "stdout",
     "output_type": "stream",
     "text": [
      "6\n"
     ]
    }
   ],
   "source": [
    "# +, -, / division, // integer division, ** powers\n",
    "# type(): integer, float, string, boolean, Nonetype\n",
    "# print()\n",
    "print(3*2)"
   ]
  },
  {
   "cell_type": "markdown",
   "metadata": {
    "id": "iBjNDTjaFUBx"
   },
   "source": [
    "# **Print and strings:**"
   ]
  },
  {
   "cell_type": "code",
   "execution_count": 13,
   "metadata": {
    "colab": {
     "base_uri": "https://localhost:8080/"
    },
    "id": "GSlhQgzcOFrt",
    "outputId": "b0aca6c3-ccc7-472e-baf3-d71fd15bbe02"
   },
   "outputs": [
    {
     "name": "stdout",
     "output_type": "stream",
     "text": [
      "3.0\n",
      "<class 'float'>\n",
      "<class 'bool'>\n",
      "<class 'NoneType'>\n",
      "stringstring2\n"
     ]
    },
    {
     "data": {
      "text/plain": [
       "False"
      ]
     },
     "execution_count": 13,
     "metadata": {},
     "output_type": "execute_result"
    }
   ],
   "source": [
    "# Assignment: =\n",
    "x=3.0\n",
    "print(x)\n",
    "x=x+2\n",
    "print(type(x))\n",
    "print(type(True))\n",
    "print(type(None))\n",
    "\n",
    "# Strings\n",
    "s='string'\n",
    "t='string2'\n",
    "print(s+t)\n",
    "# To access elements of a string:\n",
    "s[-1] # The last but one element.\n",
    "n=10000\n",
    "str(n) # To convert to a string.\n",
    "'8' in str(n) # It yields True or False, depending on whether the character '8' is in the string or not."
   ]
  },
  {
   "cell_type": "markdown",
   "metadata": {
    "id": "6ZHD29tGFDf8"
   },
   "source": [
    "# **If-statement:**"
   ]
  },
  {
   "cell_type": "code",
   "execution_count": 1,
   "metadata": {
    "colab": {
     "base_uri": "https://localhost:8080/"
    },
    "id": "HM4NEtrEOKdT",
    "outputId": "19273530-25a8-40ea-fe8a-282cf2d6fe0a"
   },
   "outputs": [
    {
     "name": "stdout",
     "output_type": "stream",
     "text": [
      "ciao\n",
      "6\n"
     ]
    }
   ],
   "source": [
    "# if\n",
    "if 3<2:\n",
    "    print(\"not ok\")\n",
    "elif 3==2:\n",
    "    print(\"still not ok\")\n",
    "else:\n",
    "    print(\"ciao\")\n",
    "# , ==, !=, <=, >=\n",
    "# and, or\n",
    "d=6;\n",
    "if (d>20 or d==6):\n",
    "    print(d)\n",
    "\n",
    "b=False;\n",
    "if (b):\n",
    "    print('b is true')"
   ]
  },
  {
   "cell_type": "markdown",
   "metadata": {
    "id": "KimfN-cFE5NM"
   },
   "source": [
    "#**Loops: for and while**"
   ]
  },
  {
   "cell_type": "code",
   "execution_count": 2,
   "metadata": {
    "colab": {
     "base_uri": "https://localhost:8080/"
    },
    "id": "-8hvKqHQQWJB",
    "outputId": "06c20e15-5215-45b7-ef8b-cc8b9cf83911"
   },
   "outputs": [
    {
     "name": "stdout",
     "output_type": "stream",
     "text": [
      "0\n",
      "1\n",
      "2\n",
      "3\n",
      "4\n",
      "1\n",
      "2\n",
      "3\n",
      "4\n",
      "5\n",
      "6\n",
      "7\n",
      "8\n",
      "9\n",
      "10\n"
     ]
    }
   ],
   "source": [
    "# for var in set_of_variables:\n",
    "  # do_something\n",
    "\n",
    "# for loop: if we already know a condition.\n",
    "# for i in [0,1,2,3,4]:\n",
    "  # print(i)\n",
    "for i in range(0,5,1):\n",
    "    print(i)\n",
    "# same as range(5)\n",
    "\n",
    "# while(condition):\n",
    "  # do_something\n",
    "counter=0\n",
    "while(counter<10):\n",
    "    counter=counter+1\n",
    "    print(counter)\n"
   ]
  },
  {
   "cell_type": "markdown",
   "metadata": {
    "id": "IHVArahKYv7I"
   },
   "source": [
    "Remember tha indentation is crucial in Python!"
   ]
  },
  {
   "cell_type": "markdown",
   "metadata": {
    "id": "w5tYmhEhFfSH"
   },
   "source": [
    "#**Lists:**\n",
    "They are inhomogeneous containers of objects of different type.\n",
    "They are mutuable and resizable."
   ]
  },
  {
   "cell_type": "code",
   "execution_count": 3,
   "metadata": {
    "colab": {
     "base_uri": "https://localhost:8080/"
    },
    "id": "cYxhH9OUSTrc",
    "outputId": "151dc56f-fac3-4053-ec68-c08f2a8dc6bf"
   },
   "outputs": [
    {
     "name": "stdout",
     "output_type": "stream",
     "text": [
      "[1, 2, 3, 4]\n",
      "[0, 1, 2, 3, 4, 5, 6, 7, 8, 9]\n",
      "[0, 1, 2, 3, 4, 5, 6, 7, 8, 9, 'parappappappà']\n",
      "1\n",
      "[0, 1, 3, 4, 5, 6, 7, 8, 9]\n"
     ]
    },
    {
     "data": {
      "text/plain": [
       "[3, 6, 9]"
      ]
     },
     "execution_count": 3,
     "metadata": {},
     "output_type": "execute_result"
    }
   ],
   "source": [
    "l=[]\n",
    "l=[1,2,3,4]\n",
    "print(l)\n",
    "# or also\n",
    "l=list()\n",
    "l=list(range(10))\n",
    "print(l)\n",
    "len(l) # length\n",
    "l.append(\"parappappappà\") # I can add elements, even of various type.\n",
    "print(l)\n",
    "print(l[1])\n",
    "l.index(3) # It yields the position of 3 in the list.\n",
    "l.pop() # It deletes the last element.\n",
    "l.pop(2) # It deletes the 3rd element.\n",
    "print(l)\n",
    "l[2:9:3] # It just sees the elements between those positions, proceeding with step 3. l[9] Is included."
   ]
  },
  {
   "cell_type": "markdown",
   "metadata": {
    "id": "-NzZ4exvGXrh"
   },
   "source": [
    "To sort a list:"
   ]
  },
  {
   "cell_type": "code",
   "execution_count": 6,
   "metadata": {
    "colab": {
     "base_uri": "https://localhost:8080/"
    },
    "id": "MASthc-yS8BZ",
    "outputId": "6c263721-968b-4592-b9d2-220a98ef52ae"
   },
   "outputs": [
    {
     "name": "stdout",
     "output_type": "stream",
     "text": [
      "[0, 1, 3, 4, 5, 6, 7, 8, 9]\n",
      "[0, 1, 3, 4, 5, 6, 7, 8, 9]\n",
      "<class 'list'>\n",
      "True\n",
      "False\n"
     ]
    }
   ],
   "source": [
    "print(sorted(l)) # Ordered.\n",
    "print(l) # Not modified.\n",
    "l.sort() # Ordered modifying the original list.\n",
    "# You can also build lists of lists.\n",
    "l1=[1,2,3,'ddd',4, [3,2,1]]\n",
    "print(type(l))\n",
    "l1.pop() # It deletes the last list.\n",
    "l2=[1,2,3]\n",
    "l1.append(l2)\n",
    "l2.pop() # The element is deleted from l1 as well.\n",
    "l3=l1.copy()\n",
    "l3.pop(0) # It does not modify l1.\n",
    "l1= [1,2,4]\n",
    "l2=l1\n",
    "print(l1 is l2) # True, the 2 lists are pointing to the same object.\n",
    "l3=l1.copy()\n",
    "print(l1 is l3) # False!\n"
   ]
  },
  {
   "cell_type": "markdown",
   "metadata": {
    "id": "rVNJvROBGnTD"
   },
   "source": [
    "# **Tuples:**\n",
    "You cannot change their length or a single element. Similar to lists, apart\n",
    " from that."
   ]
  },
  {
   "cell_type": "code",
   "execution_count": 4,
   "metadata": {
    "colab": {
     "base_uri": "https://localhost:8080/"
    },
    "id": "xJ0MTeKjYZuv",
    "outputId": "673533c8-de6f-41e3-c70c-162b0c38dc4f"
   },
   "outputs": [
    {
     "name": "stdout",
     "output_type": "stream",
     "text": [
      "<class 'tuple'>\n",
      "('Hello ', 'there')\n",
      "Hello \n",
      "there\n",
      "0\n",
      "1\n"
     ]
    }
   ],
   "source": [
    "t = ()\n",
    "print(type(t))\n",
    "t=(1,2,3,'ssss')\n",
    "t=tuple(range(10))\n",
    "t[2:7] # To access elements 2 to 7.\n",
    "# t[2]=\"hi \" # Error: you cannot modify it.\n",
    "\n",
    "# Packing operation:\n",
    "f = 'Hello '\n",
    "g= 'there'\n",
    "packed_tuple=(f,g)\n",
    "print(packed_tuple)\n",
    "\n",
    "# Unpacking operation.\n",
    "c,d=packed_tuple\n",
    "print(c)\n",
    "print(d)\n",
    "\n",
    "# If we have long tuples:\n",
    "t = tuple(range(100))\n",
    "a,b,*rest=t # *:  Put all the rest in the variable \"rest\".\n",
    "print(a)\n",
    "print(b)"
   ]
  },
  {
   "cell_type": "markdown",
   "metadata": {
    "id": "ROUYrFJLGNe8"
   },
   "source": [
    "# **Functions:**\n",
    "A set of commands to perform a task. Used to optimize your code and to avoid repeating lines of code too many times."
   ]
  },
  {
   "cell_type": "code",
   "execution_count": 8,
   "metadata": {
    "colab": {
     "base_uri": "https://localhost:8080/"
    },
    "id": "7mWDVgmxZ_e9",
    "outputId": "38f38850-fa18-44ce-848c-6dd63c676f8a"
   },
   "outputs": [
    {
     "name": "stdout",
     "output_type": "stream",
     "text": [
      "Your x is:  5\n",
      "Your x is:  5\n",
      "Your x is:  5\n",
      "Hi, I am Abelardo, I speak Urdu\n",
      "Hi, I am Urdu, I speak Abelardo\n",
      "Hi, I am Abelardo, I speak Urdu\n",
      "{'Ermenegildo': 18, 'Pluto': 12}\n",
      "('Pluto', 1)\n",
      "1e-12\n"
     ]
    }
   ],
   "source": [
    "# def name_function(argument1, argument2, ....):\n",
    "  # body of the function\n",
    "  # return ----> actually optional, if you want to return a value\n",
    "\n",
    "def func(x):\n",
    "    print(\"Your x is: \",x)\n",
    "func(5)\n",
    "\n",
    "def fun(s1,s2):\n",
    "    return s1+s2\n",
    "fun(\"aaa\",\"bbb\")\n",
    "\n",
    "def square(x):\n",
    "    x=x+1\n",
    "    return x*x\n",
    "square(4)\n",
    "\n",
    "# Two ways you can use to specify arguments of a function:\n",
    "func(5)\n",
    "func(x=5)\n",
    "# Same result, but difference: positional arguments vs keyword arguments.\n",
    "# Here it is the same because we only have one aguments. In general, you can use these two with different results.\n",
    "\n",
    "def info_about_you(name,language):\n",
    "    print(\"Hi, I am \"+ name +', I speak '+language)\n",
    "info_about_you('Abelardo', 'Urdu')\n",
    "info_about_you('Urdu', 'Abelardo') # Wrong order\n",
    "info_about_you(language='Urdu', name='Abelardo') # It works as expected!\n",
    "\n",
    "def many_names(*names):\n",
    "    print('Hi', 'Genoveffa', 'Ermenegildo') # Positional arguments: use only *\n",
    "# Keywords to pass an undefined number of arguments: use **\n",
    "def many_data(**names_and_ages): # Keyword arguments\n",
    "    print(names_and_ages)\n",
    "many_data(Ermenegildo=18,Pluto=12)\n",
    "# With ** the input is (treated as) a dictionary\n",
    "# With * it is (treated like) a tuple\n",
    "\n",
    "# Specify before the positional argument, then the keyword argument.\n",
    "# Specify a default value for a variable, e.g. define a tollerance without knowing how many arguments are there\n",
    "\n",
    "def many_names(*names, tol=1e-12):\n",
    "    print(names)\n",
    "    print(tol)\n",
    "\n",
    "many_names('Pluto',1)"
   ]
  },
  {
   "cell_type": "markdown",
   "metadata": {
    "id": "VMgMN-17GIPX"
   },
   "source": [
    "# **Mathematical functions:**"
   ]
  },
  {
   "cell_type": "code",
   "execution_count": 9,
   "metadata": {
    "colab": {
     "base_uri": "https://localhost:8080/"
    },
    "id": "qceKxyHWbnBU",
    "outputId": "e1cf2d9a-9a5b-4685-dac2-f2decd06826a"
   },
   "outputs": [
    {
     "data": {
      "text/plain": [
       "2.0"
      ]
     },
     "execution_count": 9,
     "metadata": {},
     "output_type": "execute_result"
    }
   ],
   "source": [
    "import math # math.py\n",
    "math.sqrt(25)\n",
    "math.factorial(5)\n",
    "math.cos(6.28)\n",
    "\n",
    "from math import sqrt\n",
    "# So we can just write\n",
    "sqrt(4) # But be careful not to write another funcion with the same name in your code!\n",
    "# Assume you have a function sqrt and you want to compare it to the function present in math. Then you will have to go for the first approach."
   ]
  }
 ],
 "metadata": {
  "colab": {
   "authorship_tag": "ABX9TyNUqF8fPWWbSDp14vvXBjAp",
   "include_colab_link": true,
   "provenance": []
  },
  "kernelspec": {
   "display_name": "Python 3 (ipykernel)",
   "language": "python",
   "name": "python3"
  },
  "language_info": {
   "codemirror_mode": {
    "name": "ipython",
    "version": 3
   },
   "file_extension": ".py",
   "mimetype": "text/x-python",
   "name": "python",
   "nbconvert_exporter": "python",
   "pygments_lexer": "ipython3",
   "version": "3.11.3"
  }
 },
 "nbformat": 4,
 "nbformat_minor": 1
}
